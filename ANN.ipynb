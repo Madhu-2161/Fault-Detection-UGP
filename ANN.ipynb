{
 "cells": [
  {
   "cell_type": "code",
   "execution_count": 20,
   "id": "af006434",
   "metadata": {},
   "outputs": [
    {
     "name": "stdout",
     "output_type": "stream",
     "text": [
      "Train shape: (25920, 41)\n",
      "Test shape: (50760, 41)\n"
     ]
    }
   ],
   "source": [
    "import pandas as pd\n",
    "import numpy as np\n",
    "from sklearn.preprocessing import StandardScaler, LabelEncoder\n",
    "from sklearn.metrics import classification_report, confusion_matrix, accuracy_score\n",
    "import tensorflow as tf\n",
    "from tensorflow.keras import layers, models, callbacks\n",
    "\n",
    "# Load Data\n",
    "train_df = pd.read_csv(\"modified_data_train.csv\")\n",
    "test_df = pd.read_csv(\"modified_data_test.csv\")\n",
    "\n",
    "print(\"Train shape:\", train_df.shape)\n",
    "print(\"Test shape:\", test_df.shape)\n",
    "\n",
    "# Split features and target\n",
    "TARGET_COL = 'faultNumber'  \n",
    "X_train = train_df.drop(columns=[TARGET_COL])\n",
    "y_train = train_df[TARGET_COL]\n",
    "\n",
    "X_test = test_df.drop(columns=[TARGET_COL])\n",
    "y_test = test_df[TARGET_COL]\n"
   ]
  },
  {
   "cell_type": "code",
   "execution_count": 21,
   "id": "e1a35fca",
   "metadata": {},
   "outputs": [],
   "source": [
    "# Encode target if categorical\n",
    "le = LabelEncoder()\n",
    "y_train = le.fit_transform(y_train)\n",
    "y_test = le.transform(y_test)"
   ]
  },
  {
   "cell_type": "code",
   "execution_count": 22,
   "id": "7261357a",
   "metadata": {},
   "outputs": [],
   "source": [
    "# Scale features\n",
    "scaler = StandardScaler()\n",
    "X_train_scaled = scaler.fit_transform(X_train)\n",
    "X_test_scaled = scaler.transform(X_test)"
   ]
  },
  {
   "cell_type": "code",
   "execution_count": 23,
   "id": "48b4543d",
   "metadata": {},
   "outputs": [
    {
     "data": {
      "text/html": [
       "<pre style=\"white-space:pre;overflow-x:auto;line-height:normal;font-family:Menlo,'DejaVu Sans Mono',consolas,'Courier New',monospace\"><span style=\"font-weight: bold\">Model: \"sequential_4\"</span>\n",
       "</pre>\n"
      ],
      "text/plain": [
       "\u001b[1mModel: \"sequential_4\"\u001b[0m\n"
      ]
     },
     "metadata": {},
     "output_type": "display_data"
    },
    {
     "data": {
      "text/html": [
       "<pre style=\"white-space:pre;overflow-x:auto;line-height:normal;font-family:Menlo,'DejaVu Sans Mono',consolas,'Courier New',monospace\">┏━━━━━━━━━━━━━━━━━━━━━━━━━━━━━━━━━┳━━━━━━━━━━━━━━━━━━━━━━━━┳━━━━━━━━━━━━━━━┓\n",
       "┃<span style=\"font-weight: bold\"> Layer (type)                    </span>┃<span style=\"font-weight: bold\"> Output Shape           </span>┃<span style=\"font-weight: bold\">       Param # </span>┃\n",
       "┡━━━━━━━━━━━━━━━━━━━━━━━━━━━━━━━━━╇━━━━━━━━━━━━━━━━━━━━━━━━╇━━━━━━━━━━━━━━━┩\n",
       "│ dense_12 (<span style=\"color: #0087ff; text-decoration-color: #0087ff\">Dense</span>)                │ (<span style=\"color: #00d7ff; text-decoration-color: #00d7ff\">None</span>, <span style=\"color: #00af00; text-decoration-color: #00af00\">128</span>)            │         <span style=\"color: #00af00; text-decoration-color: #00af00\">5,248</span> │\n",
       "├─────────────────────────────────┼────────────────────────┼───────────────┤\n",
       "│ dropout_8 (<span style=\"color: #0087ff; text-decoration-color: #0087ff\">Dropout</span>)             │ (<span style=\"color: #00d7ff; text-decoration-color: #00d7ff\">None</span>, <span style=\"color: #00af00; text-decoration-color: #00af00\">128</span>)            │             <span style=\"color: #00af00; text-decoration-color: #00af00\">0</span> │\n",
       "├─────────────────────────────────┼────────────────────────┼───────────────┤\n",
       "│ dense_13 (<span style=\"color: #0087ff; text-decoration-color: #0087ff\">Dense</span>)                │ (<span style=\"color: #00d7ff; text-decoration-color: #00d7ff\">None</span>, <span style=\"color: #00af00; text-decoration-color: #00af00\">64</span>)             │         <span style=\"color: #00af00; text-decoration-color: #00af00\">8,256</span> │\n",
       "├─────────────────────────────────┼────────────────────────┼───────────────┤\n",
       "│ dropout_9 (<span style=\"color: #0087ff; text-decoration-color: #0087ff\">Dropout</span>)             │ (<span style=\"color: #00d7ff; text-decoration-color: #00d7ff\">None</span>, <span style=\"color: #00af00; text-decoration-color: #00af00\">64</span>)             │             <span style=\"color: #00af00; text-decoration-color: #00af00\">0</span> │\n",
       "├─────────────────────────────────┼────────────────────────┼───────────────┤\n",
       "│ dense_14 (<span style=\"color: #0087ff; text-decoration-color: #0087ff\">Dense</span>)                │ (<span style=\"color: #00d7ff; text-decoration-color: #00d7ff\">None</span>, <span style=\"color: #00af00; text-decoration-color: #00af00\">18</span>)             │         <span style=\"color: #00af00; text-decoration-color: #00af00\">1,170</span> │\n",
       "└─────────────────────────────────┴────────────────────────┴───────────────┘\n",
       "</pre>\n"
      ],
      "text/plain": [
       "┏━━━━━━━━━━━━━━━━━━━━━━━━━━━━━━━━━┳━━━━━━━━━━━━━━━━━━━━━━━━┳━━━━━━━━━━━━━━━┓\n",
       "┃\u001b[1m \u001b[0m\u001b[1mLayer (type)                   \u001b[0m\u001b[1m \u001b[0m┃\u001b[1m \u001b[0m\u001b[1mOutput Shape          \u001b[0m\u001b[1m \u001b[0m┃\u001b[1m \u001b[0m\u001b[1m      Param #\u001b[0m\u001b[1m \u001b[0m┃\n",
       "┡━━━━━━━━━━━━━━━━━━━━━━━━━━━━━━━━━╇━━━━━━━━━━━━━━━━━━━━━━━━╇━━━━━━━━━━━━━━━┩\n",
       "│ dense_12 (\u001b[38;5;33mDense\u001b[0m)                │ (\u001b[38;5;45mNone\u001b[0m, \u001b[38;5;34m128\u001b[0m)            │         \u001b[38;5;34m5,248\u001b[0m │\n",
       "├─────────────────────────────────┼────────────────────────┼───────────────┤\n",
       "│ dropout_8 (\u001b[38;5;33mDropout\u001b[0m)             │ (\u001b[38;5;45mNone\u001b[0m, \u001b[38;5;34m128\u001b[0m)            │             \u001b[38;5;34m0\u001b[0m │\n",
       "├─────────────────────────────────┼────────────────────────┼───────────────┤\n",
       "│ dense_13 (\u001b[38;5;33mDense\u001b[0m)                │ (\u001b[38;5;45mNone\u001b[0m, \u001b[38;5;34m64\u001b[0m)             │         \u001b[38;5;34m8,256\u001b[0m │\n",
       "├─────────────────────────────────┼────────────────────────┼───────────────┤\n",
       "│ dropout_9 (\u001b[38;5;33mDropout\u001b[0m)             │ (\u001b[38;5;45mNone\u001b[0m, \u001b[38;5;34m64\u001b[0m)             │             \u001b[38;5;34m0\u001b[0m │\n",
       "├─────────────────────────────────┼────────────────────────┼───────────────┤\n",
       "│ dense_14 (\u001b[38;5;33mDense\u001b[0m)                │ (\u001b[38;5;45mNone\u001b[0m, \u001b[38;5;34m18\u001b[0m)             │         \u001b[38;5;34m1,170\u001b[0m │\n",
       "└─────────────────────────────────┴────────────────────────┴───────────────┘\n"
      ]
     },
     "metadata": {},
     "output_type": "display_data"
    },
    {
     "data": {
      "text/html": [
       "<pre style=\"white-space:pre;overflow-x:auto;line-height:normal;font-family:Menlo,'DejaVu Sans Mono',consolas,'Courier New',monospace\"><span style=\"font-weight: bold\"> Total params: </span><span style=\"color: #00af00; text-decoration-color: #00af00\">14,674</span> (57.32 KB)\n",
       "</pre>\n"
      ],
      "text/plain": [
       "\u001b[1m Total params: \u001b[0m\u001b[38;5;34m14,674\u001b[0m (57.32 KB)\n"
      ]
     },
     "metadata": {},
     "output_type": "display_data"
    },
    {
     "data": {
      "text/html": [
       "<pre style=\"white-space:pre;overflow-x:auto;line-height:normal;font-family:Menlo,'DejaVu Sans Mono',consolas,'Courier New',monospace\"><span style=\"font-weight: bold\"> Trainable params: </span><span style=\"color: #00af00; text-decoration-color: #00af00\">14,674</span> (57.32 KB)\n",
       "</pre>\n"
      ],
      "text/plain": [
       "\u001b[1m Trainable params: \u001b[0m\u001b[38;5;34m14,674\u001b[0m (57.32 KB)\n"
      ]
     },
     "metadata": {},
     "output_type": "display_data"
    },
    {
     "data": {
      "text/html": [
       "<pre style=\"white-space:pre;overflow-x:auto;line-height:normal;font-family:Menlo,'DejaVu Sans Mono',consolas,'Courier New',monospace\"><span style=\"font-weight: bold\"> Non-trainable params: </span><span style=\"color: #00af00; text-decoration-color: #00af00\">0</span> (0.00 B)\n",
       "</pre>\n"
      ],
      "text/plain": [
       "\u001b[1m Non-trainable params: \u001b[0m\u001b[38;5;34m0\u001b[0m (0.00 B)\n"
      ]
     },
     "metadata": {},
     "output_type": "display_data"
    },
    {
     "name": "stdout",
     "output_type": "stream",
     "text": [
      "Epoch 1/50\n",
      "\u001b[1m648/648\u001b[0m \u001b[32m━━━━━━━━━━━━━━━━━━━━\u001b[0m\u001b[37m\u001b[0m \u001b[1m4s\u001b[0m 4ms/step - accuracy: 0.3351 - loss: 2.1649 - val_accuracy: 0.2895 - val_loss: 2.2859 - learning_rate: 0.0010\n",
      "Epoch 2/50\n",
      "\u001b[1m648/648\u001b[0m \u001b[32m━━━━━━━━━━━━━━━━━━━━\u001b[0m\u001b[37m\u001b[0m \u001b[1m2s\u001b[0m 4ms/step - accuracy: 0.5767 - loss: 1.2511 - val_accuracy: 0.3690 - val_loss: 2.2193 - learning_rate: 0.0010\n",
      "Epoch 3/50\n",
      "\u001b[1m648/648\u001b[0m \u001b[32m━━━━━━━━━━━━━━━━━━━━\u001b[0m\u001b[37m\u001b[0m \u001b[1m2s\u001b[0m 4ms/step - accuracy: 0.6597 - loss: 0.9944 - val_accuracy: 0.3831 - val_loss: 2.5680 - learning_rate: 0.0010\n",
      "Epoch 4/50\n",
      "\u001b[1m648/648\u001b[0m \u001b[32m━━━━━━━━━━━━━━━━━━━━\u001b[0m\u001b[37m\u001b[0m \u001b[1m3s\u001b[0m 4ms/step - accuracy: 0.7031 - loss: 0.8346 - val_accuracy: 0.3706 - val_loss: 3.1976 - learning_rate: 0.0010\n",
      "Epoch 5/50\n",
      "\u001b[1m648/648\u001b[0m \u001b[32m━━━━━━━━━━━━━━━━━━━━\u001b[0m\u001b[37m\u001b[0m \u001b[1m3s\u001b[0m 4ms/step - accuracy: 0.7227 - loss: 0.7704 - val_accuracy: 0.4012 - val_loss: 3.1238 - learning_rate: 0.0010\n",
      "Epoch 6/50\n",
      "\u001b[1m648/648\u001b[0m \u001b[32m━━━━━━━━━━━━━━━━━━━━\u001b[0m\u001b[37m\u001b[0m \u001b[1m3s\u001b[0m 4ms/step - accuracy: 0.7435 - loss: 0.6983 - val_accuracy: 0.3962 - val_loss: 3.4094 - learning_rate: 0.0010\n",
      "Epoch 7/50\n",
      "\u001b[1m648/648\u001b[0m \u001b[32m━━━━━━━━━━━━━━━━━━━━\u001b[0m\u001b[37m\u001b[0m \u001b[1m3s\u001b[0m 4ms/step - accuracy: 0.7597 - loss: 0.6591 - val_accuracy: 0.3981 - val_loss: 3.5460 - learning_rate: 5.0000e-04\n",
      "Epoch 8/50\n",
      "\u001b[1m648/648\u001b[0m \u001b[32m━━━━━━━━━━━━━━━━━━━━\u001b[0m\u001b[37m\u001b[0m \u001b[1m2s\u001b[0m 4ms/step - accuracy: 0.7634 - loss: 0.6364 - val_accuracy: 0.4039 - val_loss: 3.8791 - learning_rate: 5.0000e-04\n",
      "Epoch 9/50\n",
      "\u001b[1m648/648\u001b[0m \u001b[32m━━━━━━━━━━━━━━━━━━━━\u001b[0m\u001b[37m\u001b[0m \u001b[1m3s\u001b[0m 4ms/step - accuracy: 0.7711 - loss: 0.6197 - val_accuracy: 0.4007 - val_loss: 3.9402 - learning_rate: 5.0000e-04\n",
      "Epoch 10/50\n",
      "\u001b[1m648/648\u001b[0m \u001b[32m━━━━━━━━━━━━━━━━━━━━\u001b[0m\u001b[37m\u001b[0m \u001b[1m3s\u001b[0m 4ms/step - accuracy: 0.7748 - loss: 0.6027 - val_accuracy: 0.4035 - val_loss: 3.9899 - learning_rate: 5.0000e-04\n"
     ]
    }
   ],
   "source": [
    "# Build ANN model\n",
    "def build_ann(input_dim, num_classes):\n",
    "    model = models.Sequential()\n",
    "    model.add(layers.Input(shape=(input_dim,)))\n",
    "    model.add(layers.Dense(128, activation='relu'))\n",
    "    model.add(layers.Dropout(0.3))\n",
    "    model.add(layers.Dense(64, activation='relu'))\n",
    "    model.add(layers.Dropout(0.2))\n",
    "    \n",
    "    # Output layer based on classification type\n",
    "    if num_classes == 2:\n",
    "        model.add(layers.Dense(1, activation='sigmoid'))  # Binary\n",
    "        loss = 'binary_crossentropy'\n",
    "        metrics = ['accuracy']\n",
    "    else:\n",
    "        model.add(layers.Dense(num_classes, activation='softmax'))  # Multi-class\n",
    "        loss = 'sparse_categorical_crossentropy'\n",
    "        metrics = ['accuracy']\n",
    "    \n",
    "    model.compile(\n",
    "        optimizer=tf.keras.optimizers.Adam(learning_rate=0.001),\n",
    "        loss=loss,\n",
    "        metrics=metrics\n",
    "    )\n",
    "    return model\n",
    "\n",
    "model = build_ann(X_train_scaled.shape[1], num_classes)\n",
    "model.summary()\n",
    "\n",
    "# Callbacks\n",
    "early_stop = callbacks.EarlyStopping(monitor='val_loss', patience=8, restore_best_weights=True)\n",
    "reduce_lr = callbacks.ReduceLROnPlateau(monitor='val_loss', factor=0.5, patience=4, min_lr=1e-6)\n",
    "\n",
    "# Train Model\n",
    "history = model.fit(\n",
    "    X_train_scaled, y_train,\n",
    "    validation_split=0.2,\n",
    "    epochs=50,\n",
    "    batch_size=32,\n",
    "    callbacks=[early_stop, reduce_lr],\n",
    "    verbose=1\n",
    ")"
   ]
  },
  {
   "cell_type": "code",
   "execution_count": 24,
   "id": "9adbc920",
   "metadata": {},
   "outputs": [
    {
     "name": "stdout",
     "output_type": "stream",
     "text": [
      "\u001b[1m1587/1587\u001b[0m \u001b[32m━━━━━━━━━━━━━━━━━━━━\u001b[0m\u001b[37m\u001b[0m \u001b[1m3s\u001b[0m 2ms/step\n",
      "\n",
      "--- Evaluation Results ---\n",
      "Accuracy: 0.5063829787234042\n",
      "\n",
      "Confusion Matrix:\n",
      " [[1605    0    0   58  198    0    0    0  194  162    0    0    0  335\n",
      "     0    0  220   48]\n",
      " [ 205 2351    0   34   41    0    0   18   38   28    0    0    1   34\n",
      "     0    0   45   25]\n",
      " [ 217    0 2356   35   34    0    0    6   40   27    0    1    0   38\n",
      "     0    0   48   18]\n",
      " [ 224    0    0 2348   44    0    0    0   36   28    0    0    3   39\n",
      "     0    0   80   18]\n",
      " [1248    0    0   52  551    0    1   35  180  133   81   19    0  296\n",
      "     0    0  179   45]\n",
      " [ 198    0    0  272   31 1615  528    0   36   25   12    4    0   34\n",
      "     0    0   44   21]\n",
      " [ 198    0    0   34   31    0 2400    0   36   25    0    0    0   34\n",
      "     0    0   44   18]\n",
      " [ 236   51   12   36  183    0    0 1567   50   30  471   13    0   50\n",
      "     0    1   51   69]\n",
      " [1246    0    0   58  526    0    0    0  249  145    0    1    0  314\n",
      "     0    0  198   83]\n",
      " [ 706    0    0  524  135    0    0    0  191  646    0    0  392   83\n",
      "     7    0   98   38]\n",
      " [ 271    0    0   63  352    0    1   40   55   51 1707    0   10   63\n",
      "     0   34   56  117]\n",
      " [ 290    0    0   40  333    0    0   86   42   34  562 1287    1   49\n",
      "     0    1   56   39]\n",
      " [ 203    0    0   34  182    0    0    0   47   96    0    0 1944   34\n",
      "   217    0   45   18]\n",
      " [1438    0    0   65  307    0    0    0  236  150    0    1    0  327\n",
      "     0    0  206   90]\n",
      " [ 488    0    0   85   38    0    0    0   43  231    0    0  152   58\n",
      "  1626    0   72   27]\n",
      " [ 253    0    0   38   61    0  268  114   50   36  849    2    0   62\n",
      "     0  993   63   31]\n",
      " [1139    0    0   58  164    0    0    0  106  118    0    0    0  149\n",
      "     0    0 1043   43]\n",
      " [ 831    0    0   41  293    0    0    0  121  100    0    2    0  209\n",
      "     0    0  134 1089]]\n",
      "\n",
      "Classification Report:\n",
      "               precision    recall  f1-score   support\n",
      "\n",
      "         0.0       0.15      0.57      0.23      2820\n",
      "         1.0       0.98      0.83      0.90      2820\n",
      "         2.0       0.99      0.84      0.91      2820\n",
      "         4.0       0.61      0.83      0.70      2820\n",
      "         5.0       0.16      0.20      0.17      2820\n",
      "         6.0       1.00      0.57      0.73      2820\n",
      "         7.0       0.75      0.85      0.80      2820\n",
      "         8.0       0.84      0.56      0.67      2820\n",
      "        10.0       0.14      0.09      0.11      2820\n",
      "        11.0       0.31      0.23      0.26      2820\n",
      "        12.0       0.46      0.61      0.53      2820\n",
      "        13.0       0.97      0.46      0.62      2820\n",
      "        14.0       0.78      0.69      0.73      2820\n",
      "        16.0       0.15      0.12      0.13      2820\n",
      "        17.0       0.88      0.58      0.70      2820\n",
      "        18.0       0.97      0.35      0.52      2820\n",
      "        19.0       0.39      0.37      0.38      2820\n",
      "        20.0       0.59      0.39      0.47      2820\n",
      "\n",
      "    accuracy                           0.51     50760\n",
      "   macro avg       0.62      0.51      0.53     50760\n",
      "weighted avg       0.62      0.51      0.53     50760\n",
      "\n",
      "\n",
      " Model, Scaler, and Label Encoder saved successfully!\n"
     ]
    }
   ],
   "source": [
    "# Evaluate Model\n",
    "if num_classes == 2:\n",
    "    y_pred_prob = model.predict(X_test_scaled)\n",
    "    y_pred = (y_pred_prob > 0.5).astype(int).flatten()\n",
    "else:\n",
    "    y_pred_prob = model.predict(X_test_scaled)\n",
    "    y_pred = np.argmax(y_pred_prob, axis=1)\n",
    "\n",
    "# Metrics\n",
    "print(\"\\n--- Evaluation Results ---\")\n",
    "print(\"Accuracy:\", accuracy_score(y_test, y_pred))\n",
    "print(\"\\nConfusion Matrix:\\n\", confusion_matrix(y_test, y_pred))\n",
    "print(\"\\nClassification Report:\\n\", classification_report(y_test, y_pred, target_names=le.classes_.astype(str)))\n",
    "\n",
    "# Save Model and Scaler\n",
    "model.save(\"fault_detection_ann_model.keras\")\n",
    "\n",
    "import joblib\n",
    "joblib.dump(scaler, \"fault_scaler.joblib\")\n",
    "joblib.dump(le, \"fault_label_encoder.joblib\")\n",
    "\n",
    "print(\"\\n Model, Scaler, and Label Encoder saved successfully!\")"
   ]
  }
 ],
 "metadata": {
  "kernelspec": {
   "display_name": "your_env_name",
   "language": "python",
   "name": "python3"
  },
  "language_info": {
   "codemirror_mode": {
    "name": "ipython",
    "version": 3
   },
   "file_extension": ".py",
   "mimetype": "text/x-python",
   "name": "python",
   "nbconvert_exporter": "python",
   "pygments_lexer": "ipython3",
   "version": "3.10.18"
  }
 },
 "nbformat": 4,
 "nbformat_minor": 5
}
