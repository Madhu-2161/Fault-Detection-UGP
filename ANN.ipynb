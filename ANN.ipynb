{
 "cells": [
  {
   "cell_type": "code",
   "execution_count": 1,
   "id": "af006434",
   "metadata": {},
   "outputs": [
    {
     "name": "stdout",
     "output_type": "stream",
     "text": [
      "Train shape: (25920, 41)\n",
      "Test shape: (50760, 41)\n"
     ]
    }
   ],
   "source": [
    "import pandas as pd\n",
    "import numpy as np\n",
    "from sklearn.preprocessing import StandardScaler, LabelEncoder\n",
    "from sklearn.metrics import classification_report, confusion_matrix, accuracy_score\n",
    "import tensorflow as tf\n",
    "from tensorflow.keras import layers, models, callbacks\n",
    "\n",
    "# Load Data\n",
    "train_df = pd.read_csv(\"modified_data_train.csv\")\n",
    "test_df = pd.read_csv(\"modified_data_test.csv\")\n",
    "\n",
    "print(\"Train shape:\", train_df.shape)\n",
    "print(\"Test shape:\", test_df.shape)\n",
    "\n",
    "# Split features and target\n",
    "TARGET_COL = 'faultNumber'  \n",
    "X_train = train_df.drop(columns=[TARGET_COL])\n",
    "y_train = train_df[TARGET_COL]\n",
    "\n",
    "X_test = test_df.drop(columns=[TARGET_COL])\n",
    "y_test = test_df[TARGET_COL]\n"
   ]
  },
  {
   "cell_type": "code",
   "execution_count": 2,
   "id": "e1a35fca",
   "metadata": {},
   "outputs": [
    {
     "name": "stdout",
     "output_type": "stream",
     "text": [
      "\n",
      "Detected 18 class(es).\n"
     ]
    }
   ],
   "source": [
    "# Encode target if categorical\n",
    "le = LabelEncoder()\n",
    "y_train = le.fit_transform(y_train)\n",
    "y_test = le.transform(y_test)\n",
    "num_classes = len(np.unique(y_train))\n",
    "print(f\"\\nDetected {num_classes} class(es).\")"
   ]
  },
  {
   "cell_type": "code",
   "execution_count": 3,
   "id": "7261357a",
   "metadata": {},
   "outputs": [],
   "source": [
    "# Scale features\n",
    "scaler = StandardScaler()\n",
    "X_train_scaled = scaler.fit_transform(X_train)\n",
    "X_test_scaled = scaler.transform(X_test)"
   ]
  },
  {
   "cell_type": "code",
   "execution_count": 4,
   "id": "48b4543d",
   "metadata": {},
   "outputs": [
    {
     "data": {
      "text/html": [
       "<pre style=\"white-space:pre;overflow-x:auto;line-height:normal;font-family:Menlo,'DejaVu Sans Mono',consolas,'Courier New',monospace\"><span style=\"font-weight: bold\">Model: \"sequential\"</span>\n",
       "</pre>\n"
      ],
      "text/plain": [
       "\u001b[1mModel: \"sequential\"\u001b[0m\n"
      ]
     },
     "metadata": {},
     "output_type": "display_data"
    },
    {
     "data": {
      "text/html": [
       "<pre style=\"white-space:pre;overflow-x:auto;line-height:normal;font-family:Menlo,'DejaVu Sans Mono',consolas,'Courier New',monospace\">┏━━━━━━━━━━━━━━━━━━━━━━━━━━━━━━━━━┳━━━━━━━━━━━━━━━━━━━━━━━━┳━━━━━━━━━━━━━━━┓\n",
       "┃<span style=\"font-weight: bold\"> Layer (type)                    </span>┃<span style=\"font-weight: bold\"> Output Shape           </span>┃<span style=\"font-weight: bold\">       Param # </span>┃\n",
       "┡━━━━━━━━━━━━━━━━━━━━━━━━━━━━━━━━━╇━━━━━━━━━━━━━━━━━━━━━━━━╇━━━━━━━━━━━━━━━┩\n",
       "│ dense (<span style=\"color: #0087ff; text-decoration-color: #0087ff\">Dense</span>)                   │ (<span style=\"color: #00d7ff; text-decoration-color: #00d7ff\">None</span>, <span style=\"color: #00af00; text-decoration-color: #00af00\">128</span>)            │         <span style=\"color: #00af00; text-decoration-color: #00af00\">5,248</span> │\n",
       "├─────────────────────────────────┼────────────────────────┼───────────────┤\n",
       "│ dropout (<span style=\"color: #0087ff; text-decoration-color: #0087ff\">Dropout</span>)               │ (<span style=\"color: #00d7ff; text-decoration-color: #00d7ff\">None</span>, <span style=\"color: #00af00; text-decoration-color: #00af00\">128</span>)            │             <span style=\"color: #00af00; text-decoration-color: #00af00\">0</span> │\n",
       "├─────────────────────────────────┼────────────────────────┼───────────────┤\n",
       "│ dense_1 (<span style=\"color: #0087ff; text-decoration-color: #0087ff\">Dense</span>)                 │ (<span style=\"color: #00d7ff; text-decoration-color: #00d7ff\">None</span>, <span style=\"color: #00af00; text-decoration-color: #00af00\">64</span>)             │         <span style=\"color: #00af00; text-decoration-color: #00af00\">8,256</span> │\n",
       "├─────────────────────────────────┼────────────────────────┼───────────────┤\n",
       "│ dropout_1 (<span style=\"color: #0087ff; text-decoration-color: #0087ff\">Dropout</span>)             │ (<span style=\"color: #00d7ff; text-decoration-color: #00d7ff\">None</span>, <span style=\"color: #00af00; text-decoration-color: #00af00\">64</span>)             │             <span style=\"color: #00af00; text-decoration-color: #00af00\">0</span> │\n",
       "├─────────────────────────────────┼────────────────────────┼───────────────┤\n",
       "│ dense_2 (<span style=\"color: #0087ff; text-decoration-color: #0087ff\">Dense</span>)                 │ (<span style=\"color: #00d7ff; text-decoration-color: #00d7ff\">None</span>, <span style=\"color: #00af00; text-decoration-color: #00af00\">18</span>)             │         <span style=\"color: #00af00; text-decoration-color: #00af00\">1,170</span> │\n",
       "└─────────────────────────────────┴────────────────────────┴───────────────┘\n",
       "</pre>\n"
      ],
      "text/plain": [
       "┏━━━━━━━━━━━━━━━━━━━━━━━━━━━━━━━━━┳━━━━━━━━━━━━━━━━━━━━━━━━┳━━━━━━━━━━━━━━━┓\n",
       "┃\u001b[1m \u001b[0m\u001b[1mLayer (type)                   \u001b[0m\u001b[1m \u001b[0m┃\u001b[1m \u001b[0m\u001b[1mOutput Shape          \u001b[0m\u001b[1m \u001b[0m┃\u001b[1m \u001b[0m\u001b[1m      Param #\u001b[0m\u001b[1m \u001b[0m┃\n",
       "┡━━━━━━━━━━━━━━━━━━━━━━━━━━━━━━━━━╇━━━━━━━━━━━━━━━━━━━━━━━━╇━━━━━━━━━━━━━━━┩\n",
       "│ dense (\u001b[38;5;33mDense\u001b[0m)                   │ (\u001b[38;5;45mNone\u001b[0m, \u001b[38;5;34m128\u001b[0m)            │         \u001b[38;5;34m5,248\u001b[0m │\n",
       "├─────────────────────────────────┼────────────────────────┼───────────────┤\n",
       "│ dropout (\u001b[38;5;33mDropout\u001b[0m)               │ (\u001b[38;5;45mNone\u001b[0m, \u001b[38;5;34m128\u001b[0m)            │             \u001b[38;5;34m0\u001b[0m │\n",
       "├─────────────────────────────────┼────────────────────────┼───────────────┤\n",
       "│ dense_1 (\u001b[38;5;33mDense\u001b[0m)                 │ (\u001b[38;5;45mNone\u001b[0m, \u001b[38;5;34m64\u001b[0m)             │         \u001b[38;5;34m8,256\u001b[0m │\n",
       "├─────────────────────────────────┼────────────────────────┼───────────────┤\n",
       "│ dropout_1 (\u001b[38;5;33mDropout\u001b[0m)             │ (\u001b[38;5;45mNone\u001b[0m, \u001b[38;5;34m64\u001b[0m)             │             \u001b[38;5;34m0\u001b[0m │\n",
       "├─────────────────────────────────┼────────────────────────┼───────────────┤\n",
       "│ dense_2 (\u001b[38;5;33mDense\u001b[0m)                 │ (\u001b[38;5;45mNone\u001b[0m, \u001b[38;5;34m18\u001b[0m)             │         \u001b[38;5;34m1,170\u001b[0m │\n",
       "└─────────────────────────────────┴────────────────────────┴───────────────┘\n"
      ]
     },
     "metadata": {},
     "output_type": "display_data"
    },
    {
     "data": {
      "text/html": [
       "<pre style=\"white-space:pre;overflow-x:auto;line-height:normal;font-family:Menlo,'DejaVu Sans Mono',consolas,'Courier New',monospace\"><span style=\"font-weight: bold\"> Total params: </span><span style=\"color: #00af00; text-decoration-color: #00af00\">14,674</span> (57.32 KB)\n",
       "</pre>\n"
      ],
      "text/plain": [
       "\u001b[1m Total params: \u001b[0m\u001b[38;5;34m14,674\u001b[0m (57.32 KB)\n"
      ]
     },
     "metadata": {},
     "output_type": "display_data"
    },
    {
     "data": {
      "text/html": [
       "<pre style=\"white-space:pre;overflow-x:auto;line-height:normal;font-family:Menlo,'DejaVu Sans Mono',consolas,'Courier New',monospace\"><span style=\"font-weight: bold\"> Trainable params: </span><span style=\"color: #00af00; text-decoration-color: #00af00\">14,674</span> (57.32 KB)\n",
       "</pre>\n"
      ],
      "text/plain": [
       "\u001b[1m Trainable params: \u001b[0m\u001b[38;5;34m14,674\u001b[0m (57.32 KB)\n"
      ]
     },
     "metadata": {},
     "output_type": "display_data"
    },
    {
     "data": {
      "text/html": [
       "<pre style=\"white-space:pre;overflow-x:auto;line-height:normal;font-family:Menlo,'DejaVu Sans Mono',consolas,'Courier New',monospace\"><span style=\"font-weight: bold\"> Non-trainable params: </span><span style=\"color: #00af00; text-decoration-color: #00af00\">0</span> (0.00 B)\n",
       "</pre>\n"
      ],
      "text/plain": [
       "\u001b[1m Non-trainable params: \u001b[0m\u001b[38;5;34m0\u001b[0m (0.00 B)\n"
      ]
     },
     "metadata": {},
     "output_type": "display_data"
    },
    {
     "name": "stdout",
     "output_type": "stream",
     "text": [
      "Epoch 1/50\n",
      "\u001b[1m648/648\u001b[0m \u001b[32m━━━━━━━━━━━━━━━━━━━━\u001b[0m\u001b[37m\u001b[0m \u001b[1m2s\u001b[0m 2ms/step - accuracy: 0.3516 - loss: 2.1033 - val_accuracy: 0.3119 - val_loss: 2.1185 - learning_rate: 0.0010\n",
      "Epoch 2/50\n",
      "\u001b[1m648/648\u001b[0m \u001b[32m━━━━━━━━━━━━━━━━━━━━\u001b[0m\u001b[37m\u001b[0m \u001b[1m1s\u001b[0m 2ms/step - accuracy: 0.5867 - loss: 1.2181 - val_accuracy: 0.3962 - val_loss: 2.0404 - learning_rate: 0.0010\n",
      "Epoch 3/50\n",
      "\u001b[1m648/648\u001b[0m \u001b[32m━━━━━━━━━━━━━━━━━━━━\u001b[0m\u001b[37m\u001b[0m \u001b[1m1s\u001b[0m 2ms/step - accuracy: 0.6749 - loss: 0.9610 - val_accuracy: 0.4286 - val_loss: 2.0745 - learning_rate: 0.0010\n",
      "Epoch 4/50\n",
      "\u001b[1m648/648\u001b[0m \u001b[32m━━━━━━━━━━━━━━━━━━━━\u001b[0m\u001b[37m\u001b[0m \u001b[1m1s\u001b[0m 2ms/step - accuracy: 0.7066 - loss: 0.8308 - val_accuracy: 0.4217 - val_loss: 2.4332 - learning_rate: 0.0010\n",
      "Epoch 5/50\n",
      "\u001b[1m648/648\u001b[0m \u001b[32m━━━━━━━━━━━━━━━━━━━━\u001b[0m\u001b[37m\u001b[0m \u001b[1m1s\u001b[0m 2ms/step - accuracy: 0.7371 - loss: 0.7390 - val_accuracy: 0.4223 - val_loss: 2.6827 - learning_rate: 0.0010\n",
      "Epoch 6/50\n",
      "\u001b[1m648/648\u001b[0m \u001b[32m━━━━━━━━━━━━━━━━━━━━\u001b[0m\u001b[37m\u001b[0m \u001b[1m1s\u001b[0m 1ms/step - accuracy: 0.7441 - loss: 0.7020 - val_accuracy: 0.4479 - val_loss: 2.6853 - learning_rate: 0.0010\n",
      "Epoch 7/50\n",
      "\u001b[1m648/648\u001b[0m \u001b[32m━━━━━━━━━━━━━━━━━━━━\u001b[0m\u001b[37m\u001b[0m \u001b[1m1s\u001b[0m 2ms/step - accuracy: 0.7595 - loss: 0.6550 - val_accuracy: 0.4481 - val_loss: 3.0295 - learning_rate: 5.0000e-04\n",
      "Epoch 8/50\n",
      "\u001b[1m648/648\u001b[0m \u001b[32m━━━━━━━━━━━━━━━━━━━━\u001b[0m\u001b[37m\u001b[0m \u001b[1m1s\u001b[0m 2ms/step - accuracy: 0.7668 - loss: 0.6297 - val_accuracy: 0.4389 - val_loss: 3.1326 - learning_rate: 5.0000e-04\n",
      "Epoch 9/50\n",
      "\u001b[1m648/648\u001b[0m \u001b[32m━━━━━━━━━━━━━━━━━━━━\u001b[0m\u001b[37m\u001b[0m \u001b[1m1s\u001b[0m 2ms/step - accuracy: 0.7638 - loss: 0.6222 - val_accuracy: 0.4416 - val_loss: 3.4081 - learning_rate: 5.0000e-04\n",
      "Epoch 10/50\n",
      "\u001b[1m648/648\u001b[0m \u001b[32m━━━━━━━━━━━━━━━━━━━━\u001b[0m\u001b[37m\u001b[0m \u001b[1m1s\u001b[0m 2ms/step - accuracy: 0.7737 - loss: 0.6094 - val_accuracy: 0.4392 - val_loss: 3.4349 - learning_rate: 5.0000e-04\n"
     ]
    }
   ],
   "source": [
    "# Build ANN model\n",
    "def build_ann(input_dim, num_classes):\n",
    "    model = models.Sequential()\n",
    "    model.add(layers.Input(shape=(input_dim,)))\n",
    "    model.add(layers.Dense(128, activation='relu'))\n",
    "    model.add(layers.Dropout(0.3))\n",
    "    model.add(layers.Dense(64, activation='relu'))\n",
    "    model.add(layers.Dropout(0.2))\n",
    "    \n",
    "    # Output layer based on classification type\n",
    "    if num_classes == 2:\n",
    "        model.add(layers.Dense(1, activation='sigmoid'))  # Binary\n",
    "        loss = 'binary_crossentropy'\n",
    "        metrics = ['accuracy']\n",
    "    else:\n",
    "        model.add(layers.Dense(num_classes, activation='softmax'))  # Multi-class\n",
    "        loss = 'sparse_categorical_crossentropy'\n",
    "        metrics = ['accuracy']\n",
    "    \n",
    "    model.compile(\n",
    "        optimizer=tf.keras.optimizers.Adam(learning_rate=0.001),\n",
    "        loss=loss,\n",
    "        metrics=metrics\n",
    "    )\n",
    "    return model\n",
    "\n",
    "model = build_ann(X_train_scaled.shape[1], num_classes)\n",
    "model.summary()\n",
    "\n",
    "# Callbacks\n",
    "early_stop = callbacks.EarlyStopping(monitor='val_loss', patience=8, restore_best_weights=True)\n",
    "reduce_lr = callbacks.ReduceLROnPlateau(monitor='val_loss', factor=0.5, patience=4, min_lr=1e-6)\n",
    "\n",
    "# Train Model\n",
    "history = model.fit(\n",
    "    X_train_scaled, y_train,\n",
    "    validation_split=0.2,\n",
    "    epochs=50,\n",
    "    batch_size=32,\n",
    "    callbacks=[early_stop, reduce_lr],\n",
    "    verbose=1\n",
    ")"
   ]
  },
  {
   "cell_type": "code",
   "execution_count": 5,
   "id": "9adbc920",
   "metadata": {},
   "outputs": [
    {
     "name": "stdout",
     "output_type": "stream",
     "text": [
      "\u001b[1m1587/1587\u001b[0m \u001b[32m━━━━━━━━━━━━━━━━━━━━\u001b[0m\u001b[37m\u001b[0m \u001b[1m1s\u001b[0m 691us/step\n",
      "\n",
      "--- Evaluation Results ---\n",
      "Accuracy: 0.5043932230102443\n",
      "\n",
      "Confusion Matrix:\n",
      " [[1744    0    2  113  180    0    0    0  231   62    0    1    0    8\n",
      "     1    0  254  224]\n",
      " [ 195 2366    2   49   59    0    0    0   68   20    1    0    0    0\n",
      "     1    0   33   26]\n",
      " [ 202    0 2371   50   51    0    0    4   74   20    0    0    0    0\n",
      "     1    0   33   14]\n",
      " [ 207    0    2 2378   49    0    0    0   71   23    0    0    3    0\n",
      "     1    0   72   14]\n",
      " [1340    0    2   85  517    0    1   39  238   51  115   11    0    8\n",
      "     1    0  222  190]\n",
      " [ 187    0    2   49   47 1736  156  158   68   20  130  220    0    0\n",
      "     1    0   33   13]\n",
      " [ 187    0    2   49   47    0 2400    0   68   20    0    0    0    0\n",
      "     1    0   33   13]\n",
      " [ 217  147   25   67  128    0    6 1416  116   24  507   43    0    4\n",
      "     1   15   39   65]\n",
      " [1381    0    2  109  444    0    0    0  331   55    0    2    0   13\n",
      "     1    0  239  243]\n",
      " [ 758    0    2  513  111    0    0    0  110  709    0    1  309    4\n",
      "    11    0  120  172]\n",
      " [ 240    0    2   70  346    0    3  352   90   48 1381    1    2    1\n",
      "     3  182   39   60]\n",
      " [ 282    0    4   63  250    0    1   69   94   21  486 1417    0    0\n",
      "     1   20   42   70]\n",
      " [ 201    0    2  107  109    0    0    0   68   85    0    0 1860    0\n",
      "   324    0   51   13]\n",
      " [1562    0    2  104  269    0    0    0  337   59    0    0    0   12\n",
      "     1    0  218  256]\n",
      " [ 442    0    2   63   82    0    0    0   96  142    0    0  150    1\n",
      "  1740    0   56   46]\n",
      " [ 251    0    2   53   75    0   65    0   97   22 1340    1    0    1\n",
      "     1  828   44   40]\n",
      " [1181    0    2  120  157    0    0    0  123   72    0    0    0    4\n",
      "     1    0 1021  139]\n",
      " [ 966    0    2   58  136    0    0    0  127   48    0    1    0    3\n",
      "     1    0  102 1376]]\n",
      "\n",
      "Classification Report:\n",
      "               precision    recall  f1-score   support\n",
      "\n",
      "         0.0       0.15      0.62      0.24      2820\n",
      "         1.0       0.94      0.84      0.89      2820\n",
      "         2.0       0.98      0.84      0.90      2820\n",
      "         4.0       0.58      0.84      0.69      2820\n",
      "         5.0       0.17      0.18      0.18      2820\n",
      "         6.0       1.00      0.62      0.76      2820\n",
      "         7.0       0.91      0.85      0.88      2820\n",
      "         8.0       0.69      0.50      0.58      2820\n",
      "        10.0       0.14      0.12      0.13      2820\n",
      "        11.0       0.47      0.25      0.33      2820\n",
      "        12.0       0.35      0.49      0.41      2820\n",
      "        13.0       0.83      0.50      0.63      2820\n",
      "        14.0       0.80      0.66      0.72      2820\n",
      "        16.0       0.20      0.00      0.01      2820\n",
      "        17.0       0.83      0.62      0.71      2820\n",
      "        18.0       0.79      0.29      0.43      2820\n",
      "        19.0       0.39      0.36      0.37      2820\n",
      "        20.0       0.46      0.49      0.47      2820\n",
      "\n",
      "    accuracy                           0.50     50760\n",
      "   macro avg       0.59      0.50      0.52     50760\n",
      "weighted avg       0.59      0.50      0.52     50760\n",
      "\n",
      "\n",
      " Model, Scaler, and Label Encoder saved successfully!\n"
     ]
    }
   ],
   "source": [
    "# Evaluate Model\n",
    "if num_classes == 2:\n",
    "    y_pred_prob = model.predict(X_test_scaled)\n",
    "    y_pred = (y_pred_prob > 0.5).astype(int).flatten()\n",
    "else:\n",
    "    y_pred_prob = model.predict(X_test_scaled)\n",
    "    y_pred = np.argmax(y_pred_prob, axis=1)\n",
    "\n",
    "# Metrics\n",
    "print(\"\\n--- Evaluation Results ---\")\n",
    "print(\"Accuracy:\", accuracy_score(y_test, y_pred))\n",
    "print(\"\\nConfusion Matrix:\\n\", confusion_matrix(y_test, y_pred))\n",
    "print(\"\\nClassification Report:\\n\", classification_report(y_test, y_pred, target_names=le.classes_.astype(str)))\n",
    "\n",
    "# Save Model and Scaler\n",
    "model.save(\"fault_detection_ann_model.keras\")\n",
    "\n",
    "import joblib\n",
    "joblib.dump(scaler, \"fault_scaler.joblib\")\n",
    "joblib.dump(le, \"fault_label_encoder.joblib\")\n",
    "\n",
    "print(\"\\n Model, Scaler, and Label Encoder saved successfully!\")"
   ]
  }
 ],
 "metadata": {
  "kernelspec": {
   "display_name": "your_env_name",
   "language": "python",
   "name": "python3"
  },
  "language_info": {
   "codemirror_mode": {
    "name": "ipython",
    "version": 3
   },
   "file_extension": ".py",
   "mimetype": "text/x-python",
   "name": "python",
   "nbconvert_exporter": "python",
   "pygments_lexer": "ipython3",
   "version": "3.10.18"
  }
 },
 "nbformat": 4,
 "nbformat_minor": 5
}
